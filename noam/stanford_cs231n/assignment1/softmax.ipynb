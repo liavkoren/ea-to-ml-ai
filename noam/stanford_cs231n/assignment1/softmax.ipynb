{
 "cells": [
  {
   "cell_type": "markdown",
   "metadata": {},
   "source": [
    "# Softmax exercise\n",
    "\n",
    "*Complete and hand in this completed worksheet (including its outputs and any supporting code outside of the worksheet) with your assignment submission. For more details see the [assignments page](http://vision.stanford.edu/teaching/cs231n/assignments.html) on the course website.*\n",
    "\n",
    "This exercise is analogous to the SVM exercise. You will:\n",
    "\n",
    "- implement a fully-vectorized **loss function** for the Softmax classifier\n",
    "- implement the fully-vectorized expression for its **analytic gradient**\n",
    "- **check your implementation** with numerical gradient\n",
    "- use a validation set to **tune the learning rate and regularization** strength\n",
    "- **optimize** the loss function with **SGD**\n",
    "- **visualize** the final learned weights\n"
   ]
  },
  {
   "cell_type": "code",
   "execution_count": 1,
   "metadata": {
    "collapsed": false
   },
   "outputs": [],
   "source": [
    "import random\n",
    "import numpy as np\n",
    "from cs231n.data_utils import load_CIFAR10\n",
    "import matplotlib.pyplot as plt\n",
    "\n",
    "from __future__ import print_function\n",
    "\n",
    "%matplotlib inline\n",
    "plt.rcParams['figure.figsize'] = (10.0, 8.0) # set default size of plots\n",
    "plt.rcParams['image.interpolation'] = 'nearest'\n",
    "plt.rcParams['image.cmap'] = 'gray'\n",
    "\n",
    "# for auto-reloading extenrnal modules\n",
    "# see http://stackoverflow.com/questions/1907993/autoreload-of-modules-in-ipython\n",
    "%load_ext autoreload\n",
    "%autoreload 2"
   ]
  },
  {
   "cell_type": "code",
   "execution_count": 2,
   "metadata": {
    "collapsed": false
   },
   "outputs": [
    {
     "name": "stdout",
     "output_type": "stream",
     "text": [
      "Train data shape:  (49000, 3073)\n",
      "Train labels shape:  (49000,)\n",
      "Validation data shape:  (1000, 3073)\n",
      "Validation labels shape:  (1000,)\n",
      "Test data shape:  (1000, 3073)\n",
      "Test labels shape:  (1000,)\n",
      "dev data shape:  (500, 3073)\n",
      "dev labels shape:  (500,)\n"
     ]
    }
   ],
   "source": [
    "def get_CIFAR10_data(num_training=49000, num_validation=1000, num_test=1000, num_dev=500):\n",
    "    \"\"\"\n",
    "    Load the CIFAR-10 dataset from disk and perform preprocessing to prepare\n",
    "    it for the linear classifier. These are the same steps as we used for the\n",
    "    SVM, but condensed to a single function.  \n",
    "    \"\"\"\n",
    "    # Load the raw CIFAR-10 data\n",
    "    cifar10_dir = 'cs231n/datasets/cifar-10-batches-py'\n",
    "    X_train, y_train, X_test, y_test = load_CIFAR10(cifar10_dir)\n",
    "    \n",
    "    # subsample the data\n",
    "    mask = list(range(num_training, num_training + num_validation))\n",
    "    X_val = X_train[mask]\n",
    "    y_val = y_train[mask]\n",
    "    mask = list(range(num_training))\n",
    "    X_train = X_train[mask]\n",
    "    y_train = y_train[mask]\n",
    "    mask = list(range(num_test))\n",
    "    X_test = X_test[mask]\n",
    "    y_test = y_test[mask]\n",
    "    mask = np.random.choice(num_training, num_dev, replace=False)\n",
    "    X_dev = X_train[mask]\n",
    "    y_dev = y_train[mask]\n",
    "    \n",
    "    # Preprocessing: reshape the image data into rows\n",
    "    X_train = np.reshape(X_train, (X_train.shape[0], -1))\n",
    "    X_val = np.reshape(X_val, (X_val.shape[0], -1))\n",
    "    X_test = np.reshape(X_test, (X_test.shape[0], -1))\n",
    "    X_dev = np.reshape(X_dev, (X_dev.shape[0], -1))\n",
    "    \n",
    "    # Normalize the data: subtract the mean image\n",
    "    mean_image = np.mean(X_train, axis = 0)\n",
    "    X_train -= mean_image\n",
    "    X_val -= mean_image\n",
    "    X_test -= mean_image\n",
    "    X_dev -= mean_image\n",
    "    \n",
    "    # add bias dimension and transform into columns\n",
    "    X_train = np.hstack([X_train, np.ones((X_train.shape[0], 1))])\n",
    "    X_val = np.hstack([X_val, np.ones((X_val.shape[0], 1))])\n",
    "    X_test = np.hstack([X_test, np.ones((X_test.shape[0], 1))])\n",
    "    X_dev = np.hstack([X_dev, np.ones((X_dev.shape[0], 1))])\n",
    "    \n",
    "    return X_train, y_train, X_val, y_val, X_test, y_test, X_dev, y_dev\n",
    "\n",
    "\n",
    "# Invoke the above function to get our data.\n",
    "X_train, y_train, X_val, y_val, X_test, y_test, X_dev, y_dev = get_CIFAR10_data()\n",
    "print('Train data shape: ', X_train.shape)\n",
    "print('Train labels shape: ', y_train.shape)\n",
    "print('Validation data shape: ', X_val.shape)\n",
    "print('Validation labels shape: ', y_val.shape)\n",
    "print('Test data shape: ', X_test.shape)\n",
    "print('Test labels shape: ', y_test.shape)\n",
    "print('dev data shape: ', X_dev.shape)\n",
    "print('dev labels shape: ', y_dev.shape)"
   ]
  },
  {
   "cell_type": "markdown",
   "metadata": {},
   "source": [
    "## Softmax Classifier\n",
    "\n",
    "Your code for this section will all be written inside **cs231n/classifiers/softmax.py**. \n"
   ]
  },
  {
   "cell_type": "code",
   "execution_count": 21,
   "metadata": {
    "collapsed": false
   },
   "outputs": [
    {
     "name": "stdout",
     "output_type": "stream",
     "text": [
      "loss: 2.356163\n",
      "sanity check: 2.302585\n"
     ]
    }
   ],
   "source": [
    "# First implement the naive softmax loss function with nested loops.\n",
    "# Open the file cs231n/classifiers/softmax.py and implement the\n",
    "# softmax_loss_naive function.\n",
    "\n",
    "from cs231n.classifiers.softmax import softmax_loss_naive\n",
    "import time\n",
    "\n",
    "# Generate a random softmax weight matrix and use it to compute the loss.\n",
    "W = np.random.randn(3073, 10) * 0.0001\n",
    "loss, grad = softmax_loss_naive(W, X_dev, y_dev, 0.0)\n",
    "\n",
    "# As a rough sanity check, our loss should be something close to -log(0.1).\n",
    "print('loss: %f' % loss)\n",
    "print('sanity check: %f' % (-np.log(0.1)))"
   ]
  },
  {
   "cell_type": "markdown",
   "metadata": {},
   "source": [
    "## Inline Question 1:\n",
    "Why do we expect our loss to be close to -log(0.1)? Explain briefly.**\n",
    "\n",
    "**Your answer:** *Fill this in*\n",
    "\n",
    "Because there are 10 classes, on average the softmax numerator representing one class divided by the softmax denominator representing the sum of 10 classes will yield something around 0.1. The cross-entropy loss function wraps this softmax in -log(). "
   ]
  },
  {
   "cell_type": "code",
   "execution_count": 15,
   "metadata": {
    "collapsed": false
   },
   "outputs": [
    {
     "name": "stdout",
     "output_type": "stream",
     "text": [
      "numerical: -1.041257 analytic: -1.041257, relative error: 1.398222e-08\n",
      "numerical: 0.294870 analytic: 0.294870, relative error: 2.631124e-08\n",
      "numerical: -1.023697 analytic: -1.023697, relative error: 1.469795e-08\n",
      "numerical: -2.797638 analytic: -2.797638, relative error: 1.901431e-08\n",
      "numerical: -1.014892 analytic: -1.014892, relative error: 2.657641e-08\n",
      "numerical: -1.641485 analytic: -1.641485, relative error: 1.132793e-08\n",
      "numerical: -0.099751 analytic: -0.099751, relative error: 4.590179e-08\n",
      "numerical: -2.987602 analytic: -2.987602, relative error: 9.673466e-09\n",
      "numerical: 2.725640 analytic: 2.725639, relative error: 2.645722e-08\n",
      "numerical: 4.551311 analytic: 4.551311, relative error: 6.597682e-09\n",
      "numerical: -2.642663 analytic: -2.642664, relative error: 3.140063e-08\n",
      "numerical: -2.268051 analytic: -2.268051, relative error: 1.096026e-08\n",
      "numerical: 0.756255 analytic: 0.756255, relative error: 1.112343e-07\n",
      "numerical: -1.529120 analytic: -1.529120, relative error: 8.910951e-09\n",
      "numerical: -2.559898 analytic: -2.559898, relative error: 2.234702e-09\n",
      "numerical: 1.085705 analytic: 1.085705, relative error: 2.574721e-08\n",
      "numerical: -0.073015 analytic: -0.073015, relative error: 4.113685e-07\n",
      "numerical: 1.762890 analytic: 1.762890, relative error: 1.772729e-09\n",
      "numerical: 1.955309 analytic: 1.955309, relative error: 6.898153e-09\n",
      "numerical: 0.682404 analytic: 0.682404, relative error: 4.443446e-08\n"
     ]
    }
   ],
   "source": [
    "# Complete the implementation of softmax_loss_naive and implement a (naive)\n",
    "# version of the gradient that uses nested loops.\n",
    "loss, grad = softmax_loss_naive(W, X_dev, y_dev, 0.0)\n",
    "\n",
    "# As we did for the SVM, use numeric gradient checking as a debugging tool.\n",
    "# The numeric gradient should be close to the analytic gradient.\n",
    "from cs231n.gradient_check import grad_check_sparse\n",
    "f = lambda w: softmax_loss_naive(w, X_dev, y_dev, 0.0)[0]\n",
    "grad_numerical = grad_check_sparse(f, W, grad, 10)\n",
    "\n",
    "# similar to SVM case, do another gradient check with regularization\n",
    "loss, grad = softmax_loss_naive(W, X_dev, y_dev, 5e1)\n",
    "f = lambda w: softmax_loss_naive(w, X_dev, y_dev, 5e1)[0]\n",
    "grad_numerical = grad_check_sparse(f, W, grad, 10)"
   ]
  },
  {
   "cell_type": "code",
   "execution_count": 32,
   "metadata": {
    "collapsed": false
   },
   "outputs": [
    {
     "name": "stdout",
     "output_type": "stream",
     "text": [
      "naive loss: 2.356163e+00 computed in 0.172059s\n",
      "vectorized loss: 2.356163e+00 computed in 0.004202s\n",
      "Loss difference: 0.000000\n",
      "Gradient difference: 0.000000\n"
     ]
    }
   ],
   "source": [
    "# Now that we have a naive implementation of the softmax loss function and its gradient,\n",
    "# implement a vectorized version in softmax_loss_vectorized.\n",
    "# The two versions should compute the same results, but the vectorized version should be\n",
    "# much faster.\n",
    "tic = time.time()\n",
    "loss_naive, grad_naive = softmax_loss_naive(W, X_dev, y_dev, 0.000005)\n",
    "toc = time.time()\n",
    "print('naive loss: %e computed in %fs' % (loss_naive, toc - tic))\n",
    "\n",
    "from cs231n.classifiers.softmax import softmax_loss_vectorized\n",
    "tic = time.time()\n",
    "loss_vectorized, grad_vectorized = softmax_loss_vectorized(W, X_dev, y_dev, 0.000005)\n",
    "toc = time.time()\n",
    "print('vectorized loss: %e computed in %fs' % (loss_vectorized, toc - tic))\n",
    "\n",
    "# As we did for the SVM, we use the Frobenius norm to compare the two versions\n",
    "# of the gradient.\n",
    "grad_difference = np.linalg.norm(grad_naive - grad_vectorized, ord='fro')\n",
    "print('Loss difference: %f' % np.abs(loss_naive - loss_vectorized))\n",
    "print('Gradient difference: %f' % grad_difference)"
   ]
  },
  {
   "cell_type": "code",
   "execution_count": 27,
   "metadata": {
    "collapsed": false
   },
   "outputs": [
    {
     "name": "stdout",
     "output_type": "stream",
     "text": [
      "iteration 0 / 100: loss 6.348145\n",
      "iteration 0 / 100: loss 5.900616\n",
      "iteration 0 / 100: loss 5.370671\n",
      "iteration 0 / 100: loss 5.624004\n",
      "iteration 0 / 100: loss 6.314304\n",
      "iteration 0 / 100: loss 8.422891\n",
      "iteration 0 / 100: loss 37.105119\n",
      "iteration 0 / 100: loss 313.628693\n",
      "iteration 0 / 100: loss 3105.982645\n",
      "iteration 0 / 100: loss 30606.168930\n",
      "iteration 0 / 100: loss 5.050552\n",
      "iteration 0 / 100: loss 4.937751\n",
      "iteration 0 / 100: loss 5.314001\n",
      "iteration 0 / 100: loss 5.446418\n",
      "iteration 0 / 100: loss 5.546974\n",
      "iteration 0 / 100: loss 8.019100\n",
      "iteration 0 / 100: loss 36.299802\n",
      "iteration 0 / 100: loss 315.304625\n",
      "iteration 0 / 100: loss 3081.119583\n",
      "iteration 0 / 100: loss 30625.533701\n",
      "iteration 0 / 100: loss 5.474362\n",
      "iteration 0 / 100: loss 6.341672\n",
      "iteration 0 / 100: loss 5.733184\n",
      "iteration 0 / 100: loss 5.760338\n",
      "iteration 0 / 100: loss 5.865004\n",
      "iteration 0 / 100: loss 8.349208\n",
      "iteration 0 / 100: loss 37.234662\n",
      "iteration 0 / 100: loss 313.503622\n",
      "iteration 0 / 100: loss 3066.414087\n",
      "iteration 0 / 100: loss 30490.263721\n",
      "iteration 0 / 100: loss 5.703448\n",
      "iteration 0 / 100: loss 5.502082\n",
      "iteration 0 / 100: loss 6.263660\n",
      "iteration 0 / 100: loss 5.597626\n",
      "iteration 0 / 100: loss 6.527277\n",
      "iteration 0 / 100: loss 8.261574\n",
      "iteration 0 / 100: loss 36.947586\n",
      "iteration 0 / 100: loss 313.848465\n",
      "iteration 0 / 100: loss 3064.268219"
     ]
    },
    {
     "name": "stderr",
     "output_type": "stream",
     "text": [
      "/Users/Noam/Data_Stuff/ea-to-ml-ai/noam/stanford_cs231n/assignment1/cs231n/classifiers/softmax.py:90: RuntimeWarning: divide by zero encountered in log\n",
      "  loss = np.sum(-np.log(sfmax[np.arange(num_train), y]))\n",
      "/Users/Noam/Data_Stuff/ea-to-ml-ai/noam/stanford_cs231n/assignment1/cs231n/classifiers/softmax.py:97: RuntimeWarning: overflow encountered in double_scalars\n",
      "  loss += reg * np.sum(W * W)\n"
     ]
    },
    {
     "name": "stdout",
     "output_type": "stream",
     "text": [
      "\n",
      "iteration 0 / 100: loss 30944.155671\n",
      "iteration 0 / 100: loss 5.274789\n",
      "iteration 0 / 100: loss 6.225921\n",
      "iteration 0 / 100: loss 5.662369\n",
      "iteration 0 / 100: loss 6.299238\n",
      "iteration 0 / 100: loss 6.127626\n",
      "iteration 0 / 100: loss 8.696792\n",
      "iteration 0 / 100: loss 36.508048\n",
      "iteration 0 / 100: loss 315.785568"
     ]
    },
    {
     "name": "stderr",
     "output_type": "stream",
     "text": [
      "/Users/Noam/Data_Stuff/ea-to-ml-ai/noam/stanford_cs231n/assignment1/cs231n/classifiers/softmax.py:97: RuntimeWarning: overflow encountered in multiply\n",
      "  loss += reg * np.sum(W * W)\n",
      "/Users/Noam/Data_Stuff/ea-to-ml-ai/noam/stanford_cs231n/assignment1/cs231n/classifiers/softmax.py:99: RuntimeWarning: overflow encountered in multiply\n",
      "  dW += reg * 2 * W\n"
     ]
    },
    {
     "name": "stdout",
     "output_type": "stream",
     "text": [
      "\n",
      "iteration 0 / 100: loss 3047.502320\n",
      "iteration 0 / 100: loss 30990.526698\n",
      "iteration 0 / 100: loss 6.583704\n",
      "iteration 0 / 100: loss 5.315278\n",
      "iteration 0 / 100: loss 4.680032\n",
      "iteration 0 / 100: loss 6.093039\n",
      "iteration 0 / 100: loss 6.030532\n",
      "iteration 0 / 100: loss 8.226081\n",
      "iteration 0 / 100: loss 36.746927\n",
      "iteration 0 / 100: loss 310.817636\n",
      "iteration 0 / 100: loss 3068.066054\n",
      "iteration 0 / 100: loss 30599.504552"
     ]
    },
    {
     "name": "stderr",
     "output_type": "stream",
     "text": [
      "/Users/Noam/Data_Stuff/ea-to-ml-ai/noam/stanford_cs231n/assignment1/cs231n/classifiers/softmax.py:86: RuntimeWarning: overflow encountered in subtract\n",
      "  f -= np.max(f, axis=1, keepdims=True)\n",
      "/Users/Noam/Data_Stuff/ea-to-ml-ai/noam/stanford_cs231n/assignment1/cs231n/classifiers/softmax.py:86: RuntimeWarning: invalid value encountered in subtract\n",
      "  f -= np.max(f, axis=1, keepdims=True)\n",
      "/Users/Noam/Data_Stuff/ea-to-ml-ai/noam/stanford_cs231n/assignment1/cs231n/classifiers/linear_classifier.py:76: RuntimeWarning: overflow encountered in multiply\n",
      "  self.W += -learning_rate * grad\n"
     ]
    },
    {
     "name": "stdout",
     "output_type": "stream",
     "text": [
      "\n",
      "iteration 0 / 100: loss 5.931092\n",
      "iteration 0 / 100: loss 5.368678\n",
      "iteration 0 / 100: loss 5.385257\n",
      "iteration 0 / 100: loss 5.067515\n",
      "iteration 0 / 100: loss 5.089299\n",
      "iteration 0 / 100: loss 8.613256\n",
      "iteration 0 / 100: loss 36.160176\n",
      "iteration 0 / 100: loss 311.133890\n",
      "iteration 0 / 100: loss 3065.906492\n",
      "iteration 0 / 100: loss 30572.497660\n",
      "iteration 0 / 100: loss 6.136333\n",
      "iteration 0 / 100: loss 5.904146\n",
      "iteration 0 / 100: loss 6.097991\n",
      "iteration 0 / 100: loss 6.083502\n",
      "iteration 0 / 100: loss 5.793717\n",
      "iteration 0 / 100: loss 8.186243\n",
      "iteration 0 / 100: loss 35.883598\n",
      "iteration 0 / 100: loss 315.925535\n",
      "iteration 0 / 100: loss 3057.486805\n",
      "iteration 0 / 100: loss 31073.010529\n",
      "iteration 0 / 100: loss 5.995811\n",
      "iteration 0 / 100: loss 5.436509\n",
      "iteration 0 / 100: loss 5.360891\n",
      "iteration 0 / 100: loss 5.019798\n",
      "iteration 0 / 100: loss 6.573095\n",
      "iteration 0 / 100: loss 9.568045\n",
      "iteration 0 / 100: loss 36.159566\n",
      "iteration 0 / 100: loss 309.536291\n",
      "iteration 0 / 100: loss 3102.138907\n",
      "iteration 0 / 100: loss 30512.099313\n",
      "iteration 0 / 100: loss 5.558622\n",
      "iteration 0 / 100: loss 6.206739\n",
      "iteration 0 / 100: loss 5.130025\n",
      "iteration 0 / 100: loss 5.423949\n",
      "iteration 0 / 100: loss 6.707715\n",
      "iteration 0 / 100: loss 9.086624\n",
      "iteration 0 / 100: loss 36.705281\n",
      "iteration 0 / 100: loss 314.062161\n",
      "iteration 0 / 100: loss 3043.640866\n",
      "iteration 0 / 100: loss 30162.094481\n",
      "lr 1.000000e-10 reg 1.000000e-03 train accuracy: 0.091796 val accuracy: 0.099000\n",
      "lr 1.000000e-10 reg 1.000000e-02 train accuracy: 0.079163 val accuracy: 0.083000\n",
      "lr 1.000000e-10 reg 1.000000e-01 train accuracy: 0.103469 val accuracy: 0.109000\n",
      "lr 1.000000e-10 reg 1.000000e+00 train accuracy: 0.108796 val accuracy: 0.119000\n",
      "lr 1.000000e-10 reg 1.000000e+01 train accuracy: 0.107592 val accuracy: 0.108000\n",
      "lr 1.000000e-10 reg 1.000000e+02 train accuracy: 0.082551 val accuracy: 0.064000\n",
      "lr 1.000000e-10 reg 1.000000e+03 train accuracy: 0.072592 val accuracy: 0.066000\n",
      "lr 1.000000e-10 reg 1.000000e+04 train accuracy: 0.101449 val accuracy: 0.107000\n",
      "lr 1.000000e-10 reg 1.000000e+05 train accuracy: 0.085592 val accuracy: 0.097000\n",
      "lr 1.000000e-10 reg 1.000000e+06 train accuracy: 0.084245 val accuracy: 0.092000\n",
      "lr 1.668101e-08 reg 1.000000e-03 train accuracy: 0.116367 val accuracy: 0.133000\n",
      "lr 1.668101e-08 reg 1.000000e-02 train accuracy: 0.114714 val accuracy: 0.148000\n",
      "lr 1.668101e-08 reg 1.000000e-01 train accuracy: 0.120102 val accuracy: 0.112000\n",
      "lr 1.668101e-08 reg 1.000000e+00 train accuracy: 0.091204 val accuracy: 0.087000\n",
      "lr 1.668101e-08 reg 1.000000e+01 train accuracy: 0.139449 val accuracy: 0.123000\n",
      "lr 1.668101e-08 reg 1.000000e+02 train accuracy: 0.112408 val accuracy: 0.101000\n",
      "lr 1.668101e-08 reg 1.000000e+03 train accuracy: 0.121163 val accuracy: 0.122000\n",
      "lr 1.668101e-08 reg 1.000000e+04 train accuracy: 0.089408 val accuracy: 0.100000\n",
      "lr 1.668101e-08 reg 1.000000e+05 train accuracy: 0.125531 val accuracy: 0.144000\n",
      "lr 1.668101e-08 reg 1.000000e+06 train accuracy: 0.137816 val accuracy: 0.140000\n",
      "lr 2.782559e-06 reg 1.000000e-03 train accuracy: 0.276102 val accuracy: 0.289000\n",
      "lr 2.782559e-06 reg 1.000000e-02 train accuracy: 0.273041 val accuracy: 0.278000\n",
      "lr 2.782559e-06 reg 1.000000e-01 train accuracy: 0.269000 val accuracy: 0.271000\n",
      "lr 2.782559e-06 reg 1.000000e+00 train accuracy: 0.280490 val accuracy: 0.287000\n",
      "lr 2.782559e-06 reg 1.000000e+01 train accuracy: 0.278122 val accuracy: 0.286000\n",
      "lr 2.782559e-06 reg 1.000000e+02 train accuracy: 0.269388 val accuracy: 0.266000\n",
      "lr 2.782559e-06 reg 1.000000e+03 train accuracy: 0.306918 val accuracy: 0.323000\n",
      "lr 2.782559e-06 reg 1.000000e+04 train accuracy: 0.337367 val accuracy: 0.352000\n",
      "lr 2.782559e-06 reg 1.000000e+05 train accuracy: 0.236490 val accuracy: 0.243000\n",
      "lr 2.782559e-06 reg 1.000000e+06 train accuracy: 0.094408 val accuracy: 0.102000\n",
      "lr 4.641589e-04 reg 1.000000e-03 train accuracy: 0.284204 val accuracy: 0.253000\n",
      "lr 4.641589e-04 reg 1.000000e-02 train accuracy: 0.260571 val accuracy: 0.278000\n",
      "lr 4.641589e-04 reg 1.000000e-01 train accuracy: 0.269551 val accuracy: 0.288000\n",
      "lr 4.641589e-04 reg 1.000000e+00 train accuracy: 0.261347 val accuracy: 0.271000\n",
      "lr 4.641589e-04 reg 1.000000e+01 train accuracy: 0.228347 val accuracy: 0.221000\n",
      "lr 4.641589e-04 reg 1.000000e+02 train accuracy: 0.178224 val accuracy: 0.186000\n",
      "lr 4.641589e-04 reg 1.000000e+03 train accuracy: 0.137061 val accuracy: 0.134000\n",
      "lr 4.641589e-04 reg 1.000000e+04 train accuracy: 0.072347 val accuracy: 0.065000\n",
      "lr 4.641589e-04 reg 1.000000e+05 train accuracy: 0.100204 val accuracy: 0.122000\n",
      "lr 4.641589e-04 reg 1.000000e+06 train accuracy: 0.101816 val accuracy: 0.109000\n",
      "lr 7.742637e-02 reg 1.000000e-03 train accuracy: 0.288286 val accuracy: 0.318000\n",
      "lr 7.742637e-02 reg 1.000000e-02 train accuracy: 0.280347 val accuracy: 0.274000\n",
      "lr 7.742637e-02 reg 1.000000e-01 train accuracy: 0.241286 val accuracy: 0.234000\n",
      "lr 7.742637e-02 reg 1.000000e+00 train accuracy: 0.184122 val accuracy: 0.203000\n",
      "lr 7.742637e-02 reg 1.000000e+01 train accuracy: 0.089000 val accuracy: 0.072000\n",
      "lr 7.742637e-02 reg 1.000000e+02 train accuracy: 0.049510 val accuracy: 0.056000\n",
      "lr 7.742637e-02 reg 1.000000e+03 train accuracy: 0.087857 val accuracy: 0.096000\n",
      "lr 7.742637e-02 reg 1.000000e+04 train accuracy: 0.100265 val accuracy: 0.087000\n",
      "lr 7.742637e-02 reg 1.000000e+05 train accuracy: 0.100265 val accuracy: 0.087000\n",
      "lr 7.742637e-02 reg 1.000000e+06 train accuracy: 0.100265 val accuracy: 0.087000\n",
      "lr 1.291550e+01 reg 1.000000e-03 train accuracy: 0.227000 val accuracy: 0.245000\n",
      "lr 1.291550e+01 reg 1.000000e-02 train accuracy: 0.121347 val accuracy: 0.132000\n",
      "lr 1.291550e+01 reg 1.000000e-01 train accuracy: 0.086490 val accuracy: 0.099000\n",
      "lr 1.291550e+01 reg 1.000000e+00 train accuracy: 0.078367 val accuracy: 0.087000\n",
      "lr 1.291550e+01 reg 1.000000e+01 train accuracy: 0.100551 val accuracy: 0.080000\n",
      "lr 1.291550e+01 reg 1.000000e+02 train accuracy: 0.100265 val accuracy: 0.087000\n",
      "lr 1.291550e+01 reg 1.000000e+03 train accuracy: 0.100265 val accuracy: 0.087000\n",
      "lr 1.291550e+01 reg 1.000000e+04 train accuracy: 0.100265 val accuracy: 0.087000\n",
      "lr 1.291550e+01 reg 1.000000e+05 train accuracy: 0.100265 val accuracy: 0.087000\n",
      "lr 1.291550e+01 reg 1.000000e+06 train accuracy: 0.100265 val accuracy: 0.087000\n",
      "lr 2.154435e+03 reg 1.000000e-03 train accuracy: 0.040735 val accuracy: 0.047000\n",
      "lr 2.154435e+03 reg 1.000000e-02 train accuracy: 0.071122 val accuracy: 0.080000\n",
      "lr 2.154435e+03 reg 1.000000e-01 train accuracy: 0.088020 val accuracy: 0.087000\n",
      "lr 2.154435e+03 reg 1.000000e+00 train accuracy: 0.100265 val accuracy: 0.087000\n",
      "lr 2.154435e+03 reg 1.000000e+01 train accuracy: 0.100265 val accuracy: 0.087000\n",
      "lr 2.154435e+03 reg 1.000000e+02 train accuracy: 0.100265 val accuracy: 0.087000\n",
      "lr 2.154435e+03 reg 1.000000e+03 train accuracy: 0.100265 val accuracy: 0.087000\n",
      "lr 2.154435e+03 reg 1.000000e+04 train accuracy: 0.100265 val accuracy: 0.087000\n",
      "lr 2.154435e+03 reg 1.000000e+05 train accuracy: 0.100265 val accuracy: 0.087000\n",
      "lr 2.154435e+03 reg 1.000000e+06 train accuracy: 0.100265 val accuracy: 0.087000\n",
      "lr 3.593814e+05 reg 1.000000e-03 train accuracy: 0.053184 val accuracy: 0.064000\n",
      "lr 3.593814e+05 reg 1.000000e-02 train accuracy: 0.100265 val accuracy: 0.087000\n",
      "lr 3.593814e+05 reg 1.000000e-01 train accuracy: 0.100265 val accuracy: 0.087000\n",
      "lr 3.593814e+05 reg 1.000000e+00 train accuracy: 0.100265 val accuracy: 0.087000\n",
      "lr 3.593814e+05 reg 1.000000e+01 train accuracy: 0.100265 val accuracy: 0.087000\n",
      "lr 3.593814e+05 reg 1.000000e+02 train accuracy: 0.100265 val accuracy: 0.087000\n",
      "lr 3.593814e+05 reg 1.000000e+03 train accuracy: 0.100265 val accuracy: 0.087000\n",
      "lr 3.593814e+05 reg 1.000000e+04 train accuracy: 0.100265 val accuracy: 0.087000\n",
      "lr 3.593814e+05 reg 1.000000e+05 train accuracy: 0.100265 val accuracy: 0.087000\n",
      "lr 3.593814e+05 reg 1.000000e+06 train accuracy: 0.100265 val accuracy: 0.087000\n",
      "lr 5.994843e+07 reg 1.000000e-03 train accuracy: 0.100265 val accuracy: 0.087000\n",
      "lr 5.994843e+07 reg 1.000000e-02 train accuracy: 0.100265 val accuracy: 0.087000\n",
      "lr 5.994843e+07 reg 1.000000e-01 train accuracy: 0.100265 val accuracy: 0.087000\n",
      "lr 5.994843e+07 reg 1.000000e+00 train accuracy: 0.100265 val accuracy: 0.087000\n",
      "lr 5.994843e+07 reg 1.000000e+01 train accuracy: 0.100265 val accuracy: 0.087000\n",
      "lr 5.994843e+07 reg 1.000000e+02 train accuracy: 0.100265 val accuracy: 0.087000\n",
      "lr 5.994843e+07 reg 1.000000e+03 train accuracy: 0.100265 val accuracy: 0.087000\n",
      "lr 5.994843e+07 reg 1.000000e+04 train accuracy: 0.100265 val accuracy: 0.087000\n",
      "lr 5.994843e+07 reg 1.000000e+05 train accuracy: 0.100265 val accuracy: 0.087000\n",
      "lr 5.994843e+07 reg 1.000000e+06 train accuracy: 0.100265 val accuracy: 0.087000\n",
      "lr 1.000000e+10 reg 1.000000e-03 train accuracy: 0.100265 val accuracy: 0.087000\n",
      "lr 1.000000e+10 reg 1.000000e-02 train accuracy: 0.100265 val accuracy: 0.087000\n",
      "lr 1.000000e+10 reg 1.000000e-01 train accuracy: 0.100265 val accuracy: 0.087000\n",
      "lr 1.000000e+10 reg 1.000000e+00 train accuracy: 0.100265 val accuracy: 0.087000\n",
      "lr 1.000000e+10 reg 1.000000e+01 train accuracy: 0.100265 val accuracy: 0.087000\n",
      "lr 1.000000e+10 reg 1.000000e+02 train accuracy: 0.100265 val accuracy: 0.087000\n",
      "lr 1.000000e+10 reg 1.000000e+03 train accuracy: 0.100265 val accuracy: 0.087000\n",
      "lr 1.000000e+10 reg 1.000000e+04 train accuracy: 0.100265 val accuracy: 0.087000\n",
      "lr 1.000000e+10 reg 1.000000e+05 train accuracy: 0.100265 val accuracy: 0.087000\n",
      "lr 1.000000e+10 reg 1.000000e+06 train accuracy: 0.100265 val accuracy: 0.087000\n",
      "best validation accuracy achieved during cross-validation: 0.352000\n"
     ]
    }
   ],
   "source": [
    "# Use the validation set to tune hyperparameters (regularization strength and\n",
    "# learning rate). You should experiment with different ranges for the learning\n",
    "# rates and regularization strengths; if you are careful you should be able to\n",
    "# get a classification accuracy of over 0.35 on the validation set.\n",
    "from cs231n.classifiers import Softmax\n",
    "results = {}\n",
    "best_val = -1\n",
    "best_softmax = None\n",
    "learning_rates = [1e-7, 5e-7]\n",
    "regularization_strengths = [2.5e4, 5e4]\n",
    "\n",
    "learning_rates = np.logspace(-10, 10, 10) \n",
    "# np.logspace(-10, 10, 8) produces: -10, -9, -8, -7, -6, -5, -4\n",
    "regularization_strengths = np.logspace(-3, 6, 10) \n",
    "# causes numeric issues: np.logspace(-5, 5, 8) produces: [-4, -3, -2, -1, 1, 2, 3, 4, 5, 6]\n",
    "\n",
    "################################################################################\n",
    "# TODO:                                                                        #\n",
    "# Use the validation set to set the learning rate and regularization strength. #\n",
    "# This should be identical to the validation that you did for the SVM; save    #\n",
    "# the best trained softmax classifer in best_softmax.                          #\n",
    "################################################################################\n",
    "num_iters = 100\n",
    "for lr in learning_rates:\n",
    "    for rs in regularization_strengths:\n",
    "        softmax = Softmax()\n",
    "        softmax.train(X_train, y_train, lr, rs, num_iters, verbose=True)\n",
    "        \n",
    "        y_train_pred = softmax.predict(X_train)\n",
    "        acc_train = np.mean(y_train == y_train_pred)\n",
    "        y_val_pred = softmax.predict(X_val)\n",
    "        acc_val = np.mean(y_val == y_val_pred)\n",
    "        \n",
    "        results[(lr, rs)] = (acc_train, acc_val)\n",
    "        \n",
    "        if best_val < acc_val:\n",
    "            best_val = acc_val\n",
    "            best_softmax = softmax\n",
    "\n",
    "################################################################################\n",
    "#                              END OF YOUR CODE                                #\n",
    "################################################################################\n",
    "    \n",
    "# Print out results.\n",
    "for lr, reg in sorted(results):\n",
    "    train_accuracy, val_accuracy = results[(lr, reg)]\n",
    "    print('lr %e reg %e train accuracy: %f val accuracy: %f' % (\n",
    "                lr, reg, train_accuracy, val_accuracy))\n",
    "    \n",
    "print('best validation accuracy achieved during cross-validation: %f' % best_val)"
   ]
  },
  {
   "cell_type": "code",
   "execution_count": 28,
   "metadata": {
    "collapsed": false
   },
   "outputs": [
    {
     "name": "stdout",
     "output_type": "stream",
     "text": [
      "softmax on raw pixels final test set accuracy: 0.323000\n"
     ]
    }
   ],
   "source": [
    "# evaluate on test set\n",
    "# Evaluate the best softmax on test set\n",
    "y_test_pred = best_softmax.predict(X_test)\n",
    "test_accuracy = np.mean(y_test == y_test_pred)\n",
    "print('softmax on raw pixels final test set accuracy: %f' % (test_accuracy, ))"
   ]
  },
  {
   "cell_type": "code",
   "execution_count": 29,
   "metadata": {
    "collapsed": false
   },
   "outputs": [
    {
     "data": {
      "image/png": "[encoded data removed]",
      "text/plain": [
       "<matplotlib.figure.Figure at 0x180c3cbeb8>"
      ]
     },
     "metadata": {},
     "output_type": "display_data"
    }
   ],
   "source": [
    "# Visualize the learned weights for each class\n",
    "w = best_softmax.W[:-1,:] # strip out the bias\n",
    "w = w.reshape(32, 32, 3, 10)\n",
    "\n",
    "w_min, w_max = np.min(w), np.max(w)\n",
    "\n",
    "classes = ['plane', 'car', 'bird', 'cat', 'deer', 'dog', 'frog', 'horse', 'ship', 'truck']\n",
    "for i in range(10):\n",
    "    plt.subplot(2, 5, i + 1)\n",
    "    \n",
    "    # Rescale the weights to be between 0 and 255\n",
    "    wimg = 255.0 * (w[:, :, :, i].squeeze() - w_min) / (w_max - w_min)\n",
    "    plt.imshow(wimg.astype('uint8'))\n",
    "    plt.axis('off')\n",
    "    plt.title(classes[i])"
   ]
  },
  {
   "cell_type": "code",
   "execution_count": null,
   "metadata": {
    "collapsed": true
   },
   "outputs": [],
   "source": []
  }
 ],
 "metadata": {
  "kernelspec": {
   "display_name": "Python 3",
   "language": "python",
   "name": "python3"
  },
  "language_info": {
   "codemirror_mode": {
    "name": "ipython",
    "version": 3
   },
   "file_extension": ".py",
   "mimetype": "text/x-python",
   "name": "python",
   "nbconvert_exporter": "python",
   "pygments_lexer": "ipython3",
   "version": "3.6.2"
  }
 },
 "nbformat": 4,
 "nbformat_minor": 0
}
