{
 "cells": [
  {
   "cell_type": "markdown",
   "metadata": {},
   "source": [
    "# Softmax exercise\n",
    "\n",
    "*Complete and hand in this completed worksheet (including its outputs and any supporting code outside of the worksheet) with your assignment submission. For more details see the [assignments page](http://vision.stanford.edu/teaching/cs231n/assignments.html) on the course website.*\n",
    "\n",
    "This exercise is analogous to the SVM exercise. You will:\n",
    "\n",
    "- implement a fully-vectorized **loss function** for the Softmax classifier\n",
    "- implement the fully-vectorized expression for its **analytic gradient**\n",
    "- **check your implementation** with numerical gradient\n",
    "- use a validation set to **tune the learning rate and regularization** strength\n",
    "- **optimize** the loss function with **SGD**\n",
    "- **visualize** the final learned weights\n"
   ]
  },
  {
   "cell_type": "code",
   "execution_count": 1,
   "metadata": {},
   "outputs": [],
   "source": [
    "import random\n",
    "import numpy as np\n",
    "from cs231n.data_utils import load_CIFAR10\n",
    "import matplotlib.pyplot as plt\n",
    "\n",
    "from __future__ import print_function\n",
    "\n",
    "%matplotlib inline\n",
    "plt.rcParams['figure.figsize'] = (10.0, 8.0) # set default size of plots\n",
    "plt.rcParams['image.interpolation'] = 'nearest'\n",
    "plt.rcParams['image.cmap'] = 'gray'\n",
    "\n",
    "# for auto-reloading extenrnal modules\n",
    "# see http://stackoverflow.com/questions/1907993/autoreload-of-modules-in-ipython\n",
    "%load_ext autoreload\n",
    "%autoreload 2"
   ]
  },
  {
   "cell_type": "code",
   "execution_count": 2,
   "metadata": {},
   "outputs": [
    {
     "name": "stdout",
     "output_type": "stream",
     "text": [
      "Train data shape:  (49000, 3073)\n",
      "Train labels shape:  (49000,)\n",
      "Validation data shape:  (1000, 3073)\n",
      "Validation labels shape:  (1000,)\n",
      "Test data shape:  (1000, 3073)\n",
      "Test labels shape:  (1000,)\n",
      "dev data shape:  (500, 3073)\n",
      "dev labels shape:  (500,)\n"
     ]
    }
   ],
   "source": [
    "def get_CIFAR10_data(num_training=49000, num_validation=1000, num_test=1000, num_dev=500):\n",
    "    \"\"\"\n",
    "    Load the CIFAR-10 dataset from disk and perform preprocessing to prepare\n",
    "    it for the linear classifier. These are the same steps as we used for the\n",
    "    SVM, but condensed to a single function.  \n",
    "    \"\"\"\n",
    "    # Load the raw CIFAR-10 data\n",
    "    cifar10_dir = 'cs231n/datasets/cifar-10-batches-py'\n",
    "    X_train, y_train, X_test, y_test = load_CIFAR10(cifar10_dir)\n",
    "    \n",
    "    # subsample the data\n",
    "    mask = list(range(num_training, num_training + num_validation))\n",
    "    X_val = X_train[mask]\n",
    "    y_val = y_train[mask]\n",
    "    mask = list(range(num_training))\n",
    "    X_train = X_train[mask]\n",
    "    y_train = y_train[mask]\n",
    "    mask = list(range(num_test))\n",
    "    X_test = X_test[mask]\n",
    "    y_test = y_test[mask]\n",
    "    mask = np.random.choice(num_training, num_dev, replace=False)\n",
    "    X_dev = X_train[mask]\n",
    "    y_dev = y_train[mask]\n",
    "    \n",
    "    # Preprocessing: reshape the image data into rows\n",
    "    X_train = np.reshape(X_train, (X_train.shape[0], -1))\n",
    "    X_val = np.reshape(X_val, (X_val.shape[0], -1))\n",
    "    X_test = np.reshape(X_test, (X_test.shape[0], -1))\n",
    "    X_dev = np.reshape(X_dev, (X_dev.shape[0], -1))\n",
    "    \n",
    "    # Normalize the data: subtract the mean image\n",
    "    mean_image = np.mean(X_train, axis = 0)\n",
    "    X_train -= mean_image\n",
    "    X_val -= mean_image\n",
    "    X_test -= mean_image\n",
    "    X_dev -= mean_image\n",
    "    \n",
    "    # add bias dimension and transform into columns\n",
    "    X_train = np.hstack([X_train, np.ones((X_train.shape[0], 1))])\n",
    "    X_val = np.hstack([X_val, np.ones((X_val.shape[0], 1))])\n",
    "    X_test = np.hstack([X_test, np.ones((X_test.shape[0], 1))])\n",
    "    X_dev = np.hstack([X_dev, np.ones((X_dev.shape[0], 1))])\n",
    "    \n",
    "    return X_train, y_train, X_val, y_val, X_test, y_test, X_dev, y_dev\n",
    "\n",
    "\n",
    "# Invoke the above function to get our data.\n",
    "X_train, y_train, X_val, y_val, X_test, y_test, X_dev, y_dev = get_CIFAR10_data()\n",
    "print('Train data shape: ', X_train.shape)\n",
    "print('Train labels shape: ', y_train.shape)\n",
    "print('Validation data shape: ', X_val.shape)\n",
    "print('Validation labels shape: ', y_val.shape)\n",
    "print('Test data shape: ', X_test.shape)\n",
    "print('Test labels shape: ', y_test.shape)\n",
    "print('dev data shape: ', X_dev.shape)\n",
    "print('dev labels shape: ', y_dev.shape)"
   ]
  },
  {
   "cell_type": "markdown",
   "metadata": {},
   "source": [
    "## Softmax Classifier\n",
    "\n",
    "Your code for this section will all be written inside **cs231n/classifiers/softmax.py**. \n"
   ]
  },
  {
   "cell_type": "code",
   "execution_count": 44,
   "metadata": {
    "scrolled": true
   },
   "outputs": [
    {
     "name": "stdout",
     "output_type": "stream",
     "text": [
      "loss: 2.419812\n",
      "sanity check: 2.302585\n"
     ]
    }
   ],
   "source": [
    "# First implement the naive softmax loss function with nested loops.\n",
    "# Open the file cs231n/classifiers/softmax.py and implement the\n",
    "# softmax_loss_naive function.\n",
    "\n",
    "from cs231n.classifiers.softmax import softmax_loss_naive\n",
    "import time\n",
    "\n",
    "# Generate a random softmax weight matrix and use it to compute the loss.\n",
    "W = np.random.randn(3073, 10) * 0.0001\n",
    "loss, grad = softmax_loss_naive(W, X_dev, y_dev, 0.0)\n",
    "\n",
    "# As a rough sanity check, our loss should be something close to -log(0.1).\n",
    "print('loss: %f' % loss)\n",
    "print('sanity check: %f' % (-np.log(0.1)))"
   ]
  },
  {
   "cell_type": "markdown",
   "metadata": {},
   "source": [
    "## Inline Question 1:\n",
    "Why do we expect our loss to be close to -log(0.1)? Explain briefly.**\n",
    "\n",
    "**Your answer:** You expect to get 1/10 correct by chance. \n"
   ]
  },
  {
   "cell_type": "code",
   "execution_count": 48,
   "metadata": {},
   "outputs": [
    {
     "name": "stdout",
     "output_type": "stream",
     "text": [
      "numerical: 0.333716 analytic: 0.333716, relative error: 1.183677e-07\n",
      "numerical: 2.119932 analytic: 2.119932, relative error: 6.506489e-09\n",
      "numerical: -3.440681 analytic: -3.440681, relative error: 1.586423e-08\n",
      "numerical: -0.591098 analytic: -0.591098, relative error: 3.618251e-08\n",
      "numerical: 0.647165 analytic: 0.647165, relative error: 1.073894e-07\n",
      "numerical: 4.392988 analytic: 4.392988, relative error: 4.393635e-09\n",
      "numerical: -1.143105 analytic: -1.143105, relative error: 3.702222e-08\n",
      "numerical: -2.499068 analytic: -2.499068, relative error: 6.859515e-09\n",
      "numerical: 0.350552 analytic: 0.350552, relative error: 1.152082e-07\n",
      "numerical: 0.426452 analytic: 0.426452, relative error: 1.261812e-08\n",
      "----\n",
      "numerical: 0.852166 analytic: 0.852166, relative error: 3.163550e-08\n",
      "numerical: 2.397780 analytic: 2.397780, relative error: 1.301843e-08\n",
      "numerical: 0.409749 analytic: 0.409749, relative error: 1.152210e-07\n",
      "numerical: -2.168039 analytic: -2.168039, relative error: 2.767298e-08\n",
      "numerical: -1.805757 analytic: -1.805757, relative error: 1.234319e-08\n",
      "numerical: 0.938858 analytic: 0.938858, relative error: 1.290302e-08\n",
      "numerical: 0.331576 analytic: 0.331576, relative error: 9.725650e-08\n",
      "numerical: 1.526538 analytic: 1.526538, relative error: 1.072049e-09\n",
      "numerical: -3.428569 analytic: -3.428568, relative error: 4.880052e-09\n",
      "numerical: -3.183905 analytic: -3.183905, relative error: 1.518034e-09\n"
     ]
    }
   ],
   "source": [
    "# Complete the implementation of softmax_loss_naive and implement a (naive)\n",
    "# version of the gradient that uses nested loops.\n",
    "loss, grad = softmax_loss_naive(W, X_dev, y_dev, 0.0)\n",
    "\n",
    "# As we did for the SVM, use numeric gradient checking as a debugging tool.\n",
    "# The numeric gradient should be close to the analytic gradient.\n",
    "from cs231n.gradient_check import grad_check_sparse\n",
    "f = lambda w: softmax_loss_naive(w, X_dev, y_dev, 0.0)[0]\n",
    "grad_numerical = grad_check_sparse(f, W, grad, 10)\n",
    "print('----')\n",
    "# similar to SVM case, do another gradient check with regularization\n",
    "loss, grad = softmax_loss_naive(W, X_dev, y_dev, 5e1)\n",
    "f = lambda w: softmax_loss_naive(w, X_dev, y_dev, 5e1)[0]\n",
    "grad_numerical = grad_check_sparse(f, W, grad, 10)"
   ]
  },
  {
   "cell_type": "code",
   "execution_count": 54,
   "metadata": {
    "scrolled": true
   },
   "outputs": [
    {
     "name": "stdout",
     "output_type": "stream",
     "text": [
      "naive loss: 2.419812e+00 computed in 0.135034s\n",
      "vectorized loss: 2.419812e+00 computed in 0.009678s\n",
      "Loss difference: 0.000000\n",
      "Gradient difference: 0.000000\n"
     ]
    }
   ],
   "source": [
    "# Now that we have a naive implementation of the softmax loss function and its gradient,\n",
    "# implement a vectorized version in softmax_loss_vectorized.\n",
    "# The two versions should compute the same results, but the vectorized version should be\n",
    "# much faster.\n",
    "tic = time.time()\n",
    "loss_naive, grad_naive = softmax_loss_naive(W, X_dev, y_dev, 0.000005)\n",
    "toc = time.time()\n",
    "print('naive loss: %e computed in %fs' % (loss_naive, toc - tic))\n",
    "\n",
    "from cs231n.classifiers.softmax import softmax_loss_vectorized\n",
    "tic = time.time()\n",
    "loss_vectorized, grad_vectorized = softmax_loss_vectorized(W, X_dev, y_dev, 0.000005)\n",
    "toc = time.time()\n",
    "print('vectorized loss: %e computed in %fs' % (loss_vectorized, toc - tic))\n",
    "\n",
    "# As we did for the SVM, we use the Frobenius norm to compare the two versions\n",
    "# of the gradient.\n",
    "grad_difference = np.linalg.norm(grad_naive - grad_vectorized, ord='fro')\n",
    "print('Loss difference: %f' % np.abs(loss_naive - loss_vectorized))\n",
    "print('Gradient difference: %f' % grad_difference)"
   ]
  },
  {
   "cell_type": "code",
   "execution_count": null,
   "metadata": {},
   "outputs": [],
   "source": [
    "from IPython.display import Image"
   ]
  },
  {
   "cell_type": "markdown",
   "metadata": {},
   "source": [
    "# YASSSSSS\n",
    "## I can see teh matrix"
   ]
  },
  {
   "cell_type": "code",
   "execution_count": 58,
   "metadata": {},
   "outputs": [
    {
     "data": {
      "image/jpeg": "[encoded data removed]",
      "text/plain": [
       "<IPython.core.display.Image object>"
      ]
     },
     "execution_count": 58,
     "metadata": {},
     "output_type": "execute_result"
    }
   ],
   "source": [
    "Image(\"/Users/liavkoren/Desktop/images.duckduckgo.com.jpg\")"
   ]
  },
  {
   "cell_type": "code",
   "execution_count": 65,
   "metadata": {},
   "outputs": [
    {
     "name": "stdout",
     "output_type": "stream",
     "text": [
      "Training w: alpha=1e-07 & 5000.0\n",
      "iteration 0 / 400: loss 158.379900\n",
      "iteration 100 / 400: loss 128.776781\n",
      "iteration 200 / 400: loss 105.464677\n",
      "iteration 300 / 400: loss 86.260463\n",
      "training accuracy: 0.20440816326530611\n",
      "validation accuracy: 0.222\n",
      "--\n",
      "Training w: alpha=1e-07 & 10000.0\n",
      "iteration 0 / 400: loss 307.566872\n",
      "iteration 100 / 400: loss 205.542918\n",
      "iteration 200 / 400: loss 137.852986\n",
      "iteration 300 / 400: loss 92.897418\n",
      "training accuracy: 0.22555102040816327\n",
      "validation accuracy: 0.219\n",
      "--\n",
      "Training w: alpha=1e-07 & 25000.0\n",
      "iteration 0 / 400: loss 776.007402\n",
      "iteration 100 / 400: loss 284.686142\n",
      "iteration 200 / 400: loss 105.495776\n",
      "iteration 300 / 400: loss 39.937018\n",
      "training accuracy: 0.29053061224489796\n",
      "validation accuracy: 0.323\n",
      "--\n",
      "Training w: alpha=1e-07 & 50000.0\n",
      "iteration 0 / 400: loss 1533.819315\n",
      "iteration 100 / 400: loss 206.537868\n",
      "iteration 200 / 400: loss 29.487489\n",
      "iteration 300 / 400: loss 5.745821\n",
      "training accuracy: 0.3031632653061225\n",
      "validation accuracy: 0.317\n",
      "--\n",
      "Training w: alpha=5e-07 & 5000.0\n",
      "iteration 0 / 400: loss 157.862980\n",
      "iteration 100 / 400: loss 57.538853\n",
      "iteration 200 / 400: loss 22.169260\n",
      "iteration 300 / 400: loss 9.433604\n",
      "training accuracy: 0.35277551020408165\n",
      "validation accuracy: 0.349\n",
      "--\n",
      "Training w: alpha=5e-07 & 10000.0\n",
      "iteration 0 / 400: loss 317.142765\n",
      "iteration 100 / 400: loss 43.505311\n",
      "iteration 200 / 400: loss 7.611614\n",
      "iteration 300 / 400: loss 2.705022\n",
      "training accuracy: 0.3507959183673469\n",
      "validation accuracy: 0.363\n",
      "--\n",
      "Training w: alpha=5e-07 & 25000.0\n",
      "iteration 0 / 400: loss 772.388383\n",
      "iteration 100 / 400: loss 6.886472\n",
      "iteration 200 / 400: loss 2.156237\n",
      "iteration 300 / 400: loss 2.112217\n",
      "training accuracy: 0.322530612244898\n",
      "validation accuracy: 0.349\n",
      "--\n",
      "Training w: alpha=5e-07 & 50000.0\n",
      "iteration 0 / 400: loss 1521.609787\n",
      "iteration 100 / 400: loss 2.198039\n",
      "iteration 200 / 400: loss 2.131910\n",
      "iteration 300 / 400: loss 2.140252\n",
      "training accuracy: 0.30553061224489797\n",
      "validation accuracy: 0.319\n",
      "--\n",
      "Training w: alpha=1e-06 & 5000.0\n",
      "iteration 0 / 400: loss 158.964475\n",
      "iteration 100 / 400: loss 22.239713\n",
      "iteration 200 / 400: loss 4.616902\n",
      "iteration 300 / 400: loss 2.308574\n",
      "training accuracy: 0.36044897959183675\n",
      "validation accuracy: 0.369\n",
      "--\n",
      "Training w: alpha=1e-06 & 10000.0\n",
      "iteration 0 / 400: loss 312.248032\n",
      "iteration 100 / 400: loss 7.320060\n",
      "iteration 200 / 400: loss 2.107510\n",
      "iteration 300 / 400: loss 1.987095\n",
      "training accuracy: 0.35081632653061223\n",
      "validation accuracy: 0.361\n",
      "--\n",
      "Training w: alpha=1e-06 & 25000.0\n",
      "iteration 0 / 400: loss 773.122059\n",
      "iteration 100 / 400: loss 2.067158\n",
      "iteration 200 / 400: loss 2.086334\n",
      "iteration 300 / 400: loss 2.175759\n",
      "training accuracy: 0.313530612244898\n",
      "validation accuracy: 0.337\n",
      "--\n",
      "Training w: alpha=1e-06 & 50000.0\n",
      "iteration 0 / 400: loss 1527.326446\n",
      "iteration 100 / 400: loss 2.175382\n",
      "iteration 200 / 400: loss 2.138297\n",
      "iteration 300 / 400: loss 2.131862\n",
      "training accuracy: 0.29828571428571427\n",
      "validation accuracy: 0.327\n",
      "--\n",
      "Training w: alpha=5e-06 & 5000.0\n",
      "iteration 0 / 400: loss 160.572815\n",
      "iteration 100 / 400: loss 2.114186\n",
      "iteration 200 / 400: loss 2.227901\n",
      "iteration 300 / 400: loss 2.003156\n",
      "training accuracy: 0.28477551020408165\n",
      "validation accuracy: 0.289\n",
      "--\n",
      "Training w: alpha=5e-06 & 10000.0\n",
      "iteration 0 / 400: loss 309.971286\n",
      "iteration 100 / 400: loss 2.274670\n",
      "iteration 200 / 400: loss 2.002225\n",
      "iteration 300 / 400: loss 2.207656\n",
      "training accuracy: 0.2506734693877551\n",
      "validation accuracy: 0.262\n",
      "--\n",
      "Training w: alpha=5e-06 & 25000.0\n",
      "iteration 0 / 400: loss 777.263503\n",
      "iteration 100 / 400: loss 2.283497\n",
      "iteration 200 / 400: loss 2.433229\n",
      "iteration 300 / 400: loss 2.747756\n",
      "training accuracy: 0.22491836734693876\n",
      "validation accuracy: 0.222\n",
      "--\n",
      "Training w: alpha=5e-06 & 50000.0\n",
      "iteration 0 / 400: loss 1537.279612\n",
      "iteration 100 / 400: loss 3.257713\n",
      "iteration 200 / 400: loss 4.359259\n",
      "iteration 300 / 400: loss 3.401984\n",
      "training accuracy: 0.1414081632653061\n",
      "validation accuracy: 0.131\n",
      "--\n",
      "lr 1.000000e-07 reg 5.000000e+03 train accuracy: 0.204408 val accuracy: 0.222000\n",
      "lr 1.000000e-07 reg 1.000000e+04 train accuracy: 0.225551 val accuracy: 0.219000\n",
      "lr 1.000000e-07 reg 2.500000e+04 train accuracy: 0.290531 val accuracy: 0.323000\n",
      "lr 1.000000e-07 reg 5.000000e+04 train accuracy: 0.303163 val accuracy: 0.317000\n",
      "lr 5.000000e-07 reg 5.000000e+03 train accuracy: 0.352776 val accuracy: 0.349000\n",
      "lr 5.000000e-07 reg 1.000000e+04 train accuracy: 0.350796 val accuracy: 0.363000\n",
      "lr 5.000000e-07 reg 2.500000e+04 train accuracy: 0.322531 val accuracy: 0.349000\n",
      "lr 5.000000e-07 reg 5.000000e+04 train accuracy: 0.305531 val accuracy: 0.319000\n",
      "lr 1.000000e-06 reg 5.000000e+03 train accuracy: 0.360449 val accuracy: 0.369000\n",
      "lr 1.000000e-06 reg 1.000000e+04 train accuracy: 0.350816 val accuracy: 0.361000\n",
      "lr 1.000000e-06 reg 2.500000e+04 train accuracy: 0.313531 val accuracy: 0.337000\n",
      "lr 1.000000e-06 reg 5.000000e+04 train accuracy: 0.298286 val accuracy: 0.327000\n",
      "lr 5.000000e-06 reg 5.000000e+03 train accuracy: 0.284776 val accuracy: 0.289000\n",
      "lr 5.000000e-06 reg 1.000000e+04 train accuracy: 0.250673 val accuracy: 0.262000\n",
      "lr 5.000000e-06 reg 2.500000e+04 train accuracy: 0.224918 val accuracy: 0.222000\n",
      "lr 5.000000e-06 reg 5.000000e+04 train accuracy: 0.141408 val accuracy: 0.131000\n",
      "best validation accuracy achieved during cross-validation: 0.369000\n"
     ]
    }
   ],
   "source": [
    "# Use the validation set to tune hyperparameters (regularization strength and\n",
    "# learning rate). You should experiment with different ranges for the learning\n",
    "# rates and regularization strengths; if you are careful you should be able to\n",
    "# get a classification accuracy of over 0.35 on the validation set.\n",
    "from cs231n.classifiers import Softmax\n",
    "results = {}\n",
    "best_val = -1\n",
    "best_softmax = None\n",
    "learning_rates = [1e-7, 5e-7, 10e-7, 5e-6]\n",
    "regularization_strengths = [5e3, 1e4, 2.5e4, 5e4]\n",
    "\n",
    "################################################################################\n",
    "# TODO:                                                                        #\n",
    "# Use the validation set to set the learning rate and regularization strength. #\n",
    "# This should be identical to the validation that you did for the SVM; save    #\n",
    "# the best trained softmax classifer in best_softmax.                          #\n",
    "################################################################################\n",
    "from itertools import product\n",
    "\n",
    "def train(X_train, y_train, X_val, y_val, learning_rate, reg, num_iterations):\n",
    "    smax = Softmax()\n",
    "    smax.train(\n",
    "        X_train, y_train, \n",
    "        learning_rate=learning_rate, \n",
    "        reg=reg,\n",
    "        num_iters=num_iterations, \n",
    "        verbose=True    \n",
    "    )\n",
    "    y_train_pred = smax.predict(X_train)\n",
    "    training_accuracy = np.mean(y_train_pred == y_train)\n",
    "    print(f'training accuracy: {training_accuracy}')\n",
    "    \n",
    "    y_val_pred = smax.predict(X_val)\n",
    "    val_accuracy = np.mean(y_val_pred == y_val)\n",
    "    print(f'validation accuracy: {val_accuracy}')\n",
    "    results[(learning_rate, reg)] = (training_accuracy, val_accuracy)\n",
    "    return (training_accuracy, val_accuracy, smax)\n",
    "\n",
    "for learning_rate, reg in product(learning_rates, regularization_strengths):\n",
    "    print(f'Training w: alpha={learning_rate} & {reg}')\n",
    "    train_acc, val_acc, smax = train(X_train, y_train, X_val, y_val, learning_rate, reg, 400)\n",
    "    if val_acc > best_val:\n",
    "        best_val = val_acc\n",
    "        best_softmax = smax\n",
    "    print('--')\n",
    "################################################################################\n",
    "#                              END OF YOUR CODE                                #\n",
    "################################################################################\n",
    "    \n",
    "# Print out results.\n",
    "for lr, reg in sorted(results):\n",
    "    train_accuracy, val_accuracy = results[(lr, reg)]\n",
    "    print('lr %e reg %e train accuracy: %f val accuracy: %f' % (\n",
    "                lr, reg, train_accuracy, val_accuracy))\n",
    "    \n",
    "print('best validation accuracy achieved during cross-validation: %f' % best_val)"
   ]
  },
  {
   "cell_type": "code",
   "execution_count": 66,
   "metadata": {},
   "outputs": [
    {
     "name": "stdout",
     "output_type": "stream",
     "text": [
      "softmax on raw pixels final test set accuracy: 0.359000\n"
     ]
    }
   ],
   "source": [
    "# evaluate on test set\n",
    "# Evaluate the best softmax on test set\n",
    "y_test_pred = best_softmax.predict(X_test)\n",
    "test_accuracy = np.mean(y_test == y_test_pred)\n",
    "print('softmax on raw pixels final test set accuracy: %f' % (test_accuracy, ))"
   ]
  },
  {
   "cell_type": "code",
   "execution_count": 67,
   "metadata": {},
   "outputs": [
    {
     "data": {
      "image/png": "[encoded data removed]",
      "text/plain": [
       "<matplotlib.figure.Figure at 0x108485be0>"
      ]
     },
     "metadata": {},
     "output_type": "display_data"
    }
   ],
   "source": [
    "# Visualize the learned weights for each class\n",
    "w = best_softmax.W[:-1,:] # strip out the bias\n",
    "w = w.reshape(32, 32, 3, 10)\n",
    "\n",
    "w_min, w_max = np.min(w), np.max(w)\n",
    "\n",
    "classes = ['plane', 'car', 'bird', 'cat', 'deer', 'dog', 'frog', 'horse', 'ship', 'truck']\n",
    "for i in range(10):\n",
    "    plt.subplot(2, 5, i + 1)\n",
    "    \n",
    "    # Rescale the weights to be between 0 and 255\n",
    "    wimg = 255.0 * (w[:, :, :, i].squeeze() - w_min) / (w_max - w_min)\n",
    "    plt.imshow(wimg.astype('uint8'))\n",
    "    plt.axis('off')\n",
    "    plt.title(classes[i])"
   ]
  }
 ],
 "metadata": {
  "kernelspec": {
   "display_name": "Python 3",
   "language": "python",
   "name": "python3"
  },
  "language_info": {
   "codemirror_mode": {
    "name": "ipython",
    "version": 3
   },
   "file_extension": ".py",
   "mimetype": "text/x-python",
   "name": "python",
   "nbconvert_exporter": "python",
   "pygments_lexer": "ipython3",
   "version": "3.6.2"
  }
 },
 "nbformat": 4,
 "nbformat_minor": 1
}
